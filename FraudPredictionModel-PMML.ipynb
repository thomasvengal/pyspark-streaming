{
 "cells": [
  {
   "cell_type": "markdown",
   "metadata": {},
   "source": [
    "<a id='top'>Top</a>\n",
    "\n",
    "\n",
    "\n",
    "\n",
    "\n"
   ]
  },
  {
   "cell_type": "markdown",
   "metadata": {},
   "source": [
    "Download Dataset from https://www.kaggle.com/ntnu-testimon/paysim1\n",
    "\n",
    "Objective: Develop a machine learning model to detect the customer transaction is good or bad. \n",
    "\n",
    "\n",
    "Public Code for XGBClassifier: https://www.kaggle.com/arjunjoshua/predicting-fraud-in-financial-payment-services\n",
    "\n"
   ]
  },
  {
   "cell_type": "markdown",
   "metadata": {},
   "source": [
    "\n",
    "High Level Plan: \n",
    "1. Import data \n",
    "2. Explore: Do Exploratory Data Analysis. Find out how the data looks like in raw format.\n",
    "3. Cleanse: Clean the data for any null records by pruning or imputing\n",
    "4. Feature Engineering:  Identify what category of ML modelling is required.\n",
    "5. Modelling: Create a ML model and test. Also save the model to be imported for runing in stream data processing\n",
    "\n",
    "\n",
    "\n",
    "\n"
   ]
  },
  {
   "cell_type": "markdown",
   "metadata": {
    "_cell_guid": "aae6646e-bcaa-4afb-85bc-2f67e314d5b0",
    "_uuid": "d821b548edc31ad27967b8419af17bfa4f0bae48"
   },
   "source": [
    "<a id='import'></a>\n",
    "# 1. Import"
   ]
  },
  {
   "cell_type": "code",
   "execution_count": 1,
   "metadata": {
    "_cell_guid": "03afcaca-4105-4c95-9a38-9a922f592814",
    "_uuid": "f936a10915bc042e678e1148923e493f92b518c3"
   },
   "outputs": [],
   "source": [
    "import pandas as pd\n",
    "import numpy as np\n",
    "%matplotlib inline\n",
    "import matplotlib.pyplot as plt\n",
    "import matplotlib.lines as mlines\n",
    "from mpl_toolkits.mplot3d import Axes3D\n",
    "import seaborn as sns\n",
    "from sklearn.model_selection import train_test_split, learning_curve\n",
    "from sklearn.metrics import average_precision_score\n",
    "from xgboost.sklearn import XGBClassifier\n",
    "from xgboost import plot_importance, to_graphviz\n",
    "from sklearn2pmml import sklearn2pmml, PMMLPipeline\n",
    "from sklearn2pmml.decoration import CategoricalDomain\n",
    "from xgboost.sklearn import XGBClassifier\n",
    "\n"
   ]
  },
  {
   "cell_type": "code",
   "execution_count": 2,
   "metadata": {
    "_cell_guid": "9bc1119f-d883-4cc6-b569-a707359abe01",
    "_uuid": "b7a3f0c8714f9e3d78a898a014f5ad81ecee1063"
   },
   "outputs": [],
   "source": [
    "import warnings\n",
    "warnings.filterwarnings(\"ignore\", category=DeprecationWarning)"
   ]
  },
  {
   "cell_type": "code",
   "execution_count": 3,
   "metadata": {
    "_cell_guid": "9dc91648-ab99-44c3-a1f1-bea967df390f",
    "_uuid": "6e1110dd564e4a38eb9d8e83c4575dcc3d26abe8"
   },
   "outputs": [],
   "source": [
    "#Import dataset from CSV file\n",
    "df = pd.read_csv('PS_20174392719_1491204439457_log.csv')\n"
   ]
  },
  {
   "cell_type": "markdown",
   "metadata": {
    "_cell_guid": "ee5bc661-4f56-47f0-8771-9d033a17f347",
    "_uuid": "f1de48b059ede362e51020b263b01ed1f2dda83d"
   },
   "source": [
    "<a href='#top'>back to top</a>"
   ]
  },
  {
   "cell_type": "markdown",
   "metadata": {
    "_cell_guid": "1f073780-2735-4481-a80c-87ed3cfc9d6a",
    "_uuid": "4409f927b742283f1024982d00585deae5e57976"
   },
   "source": [
    "<a id='EDA'></a>\n",
    "# 2. Exploratory Data Analysis\n"
   ]
  },
  {
   "cell_type": "code",
   "execution_count": 5,
   "metadata": {
    "_cell_guid": "cff74f1a-5121-44c2-a6fe-6d69fd904a45",
    "_uuid": "856038be1f75ffd6e0b132c80eac2a35bb36f9d5"
   },
   "outputs": [
    {
     "data": {
      "text/plain": [
       "['step',\n",
       " 'type',\n",
       " 'amount',\n",
       " 'nameOrig',\n",
       " 'oldbalanceOrg',\n",
       " 'newbalanceOrig',\n",
       " 'nameDest',\n",
       " 'oldbalanceDest',\n",
       " 'newbalanceDest',\n",
       " 'isFraud',\n",
       " 'isFlaggedFraud']"
      ]
     },
     "execution_count": 5,
     "metadata": {},
     "output_type": "execute_result"
    }
   ],
   "source": [
    "#List the columns\n",
    "list(df)"
   ]
  },
  {
   "cell_type": "code",
   "execution_count": 6,
   "metadata": {},
   "outputs": [
    {
     "name": "stdout",
     "output_type": "stream",
     "text": [
      "   step      type    amount     nameOrig  oldbalanceOrg  newbalanceOrig  \\\n",
      "0     1   PAYMENT   9839.64  C1231006815       170136.0       160296.36   \n",
      "1     1   PAYMENT   1864.28  C1666544295        21249.0        19384.72   \n",
      "2     1  TRANSFER    181.00  C1305486145          181.0            0.00   \n",
      "3     1  CASH_OUT    181.00   C840083671          181.0            0.00   \n",
      "4     1   PAYMENT  11668.14  C2048537720        41554.0        29885.86   \n",
      "\n",
      "      nameDest  oldbalanceDest  newbalanceDest  isFraud  isFlaggedFraud  \n",
      "0  M1979787155             0.0             0.0        0               0  \n",
      "1  M2044282225             0.0             0.0        0               0  \n",
      "2   C553264065             0.0             0.0        1               0  \n",
      "3    C38997010         21182.0             0.0        1               0  \n",
      "4  M1230701703             0.0             0.0        0               0  \n"
     ]
    }
   ],
   "source": [
    "print(df.head())"
   ]
  },
  {
   "cell_type": "code",
   "execution_count": 7,
   "metadata": {},
   "outputs": [
    {
     "data": {
      "text/plain": [
       "False"
      ]
     },
     "execution_count": 7,
     "metadata": {},
     "output_type": "execute_result"
    }
   ],
   "source": [
    "#Check whether any Null values are present\n",
    "df.isnull().values.any()"
   ]
  },
  {
   "cell_type": "code",
   "execution_count": 8,
   "metadata": {},
   "outputs": [
    {
     "name": "stdout",
     "output_type": "stream",
     "text": [
      "Total number of Records = 6362620\n",
      "Total number of Records with Fraudulent Transactions = 8213\n",
      "Total number of Records with Flagged Fraudulent Transactions = 16\n",
      "Percentage Ratio of Fradulent Transactions= 0.12908204481801522\n",
      "Total number of Records with type PAYMENT = 2151495\n",
      "Total number of Records with type TRANSFER = 532909\n",
      "Total number of Records with type CASH_IN = 1399284\n",
      "Total number of Records with type CASH_OUT = 2237500\n",
      "Total number of Records with type DEBIT = 41432\n"
     ]
    }
   ],
   "source": [
    "#Idenfity Fradulent transactions, Ratio and some basic understanding of other factors\n",
    "totalrecords = len(df)\n",
    "print ('Total number of Records =', totalrecords)\n",
    "\n",
    "is_fraud = len(df.loc[df.isFraud == 1])\n",
    "\n",
    "print ('Total number of Records with Fraudulent Transactions = {}'.format(len(df.loc[df.isFraud == 1])))\n",
    "print ('Total number of Records with Flagged Fraudulent Transactions = {}'.format(len(df.loc[df.isFlaggedFraud == 1])))\n",
    "\n",
    "       \n",
    "print('Percentage Ratio of Fradulent Transactions=', is_fraud*100/totalrecords)\n",
    "print ('Total number of Records with type PAYMENT = {}'.format(len(df.loc[df.type == \"PAYMENT\"]))) \n",
    "print ('Total number of Records with type TRANSFER = {}'.format(len(df.loc[df.type == \"TRANSFER\"])))\n",
    "print ('Total number of Records with type CASH_IN = {}'.format(len(df.loc[df.type == \"CASH_IN\"])))\n",
    "print ('Total number of Records with type CASH_OUT = {}'.format(len(df.loc[df.type == \"CASH_OUT\"])))\n",
    "print ('Total number of Records with type DEBIT = {}'.format(len(df.loc[df.type == \"DEBIT\"])))"
   ]
  },
  {
   "cell_type": "code",
   "execution_count": 13,
   "metadata": {},
   "outputs": [
    {
     "data": {
      "image/png": "[encoded data removed]",
      "text/plain": [
       "<Figure size 576x432 with 1 Axes>"
      ]
     },
     "metadata": {},
     "output_type": "display_data"
    }
   ],
   "source": [
    "x =len(df[df['isFraud'] == 1])\n",
    "y = len(df[df['isFraud']== 0])\n",
    "plt.figure(figsize=(8,6))\n",
    "# Data to plot\n",
    "plt.title('Fraud vs non Fraud')\n",
    "labels = 'Fraud','non-Fraud'\n",
    "sizes = [x,y]\n",
    "colors = ['red', 'green']\n",
    "explode = (0, 0)  # explode 1st slice\n",
    " \n",
    "# Plot\n",
    "plt.pie(sizes, explode=explode, labels=labels, colors=colors,\n",
    "autopct='%1.1f%%', shadow=True, startangle=90)\n",
    " \n",
    "plt.axis('equal')\n",
    "plt.show()"
   ]
  },
  {
   "cell_type": "code",
   "execution_count": 14,
   "metadata": {},
   "outputs": [],
   "source": [
    "#Observation: Ratio of Fraudulent transaction is very small"
   ]
  },
  {
   "cell_type": "code",
   "execution_count": 15,
   "metadata": {},
   "outputs": [
    {
     "name": "stdout",
     "output_type": "stream",
     "text": [
      "Fraudulent transactions types are ['TRANSFER', 'CASH_OUT']\n"
     ]
    }
   ],
   "source": [
    "print('Fraudulent transactions types are {}'.format(list(df.loc[df.isFraud == 1].type.drop_duplicates().values))) "
   ]
  },
  {
   "cell_type": "code",
   "execution_count": 16,
   "metadata": {
    "_cell_guid": "a10a3577-4716-49dc-8dda-d567fb395a74",
    "_uuid": "abc0207b9075a0defd828fe8732d63cce8da33c6"
   },
   "outputs": [
    {
     "name": "stdout",
     "output_type": "stream",
     "text": [
      "Total number of Records with  fraudulent TRANSFERs = 4097\n",
      "Total number of Records with fraudulent CASH_OUTs = 4116\n",
      "Total number of Records with isFlaggedfraudulent with TRANSFERs = 16\n",
      "Total number of Records with  isFlaggedfraudulent with CASH_OUTs = 0\n"
     ]
    }
   ],
   "source": [
    "\n",
    "\n",
    "print ('Total number of Records with  fraudulent TRANSFERs = {}'.format(len(df.loc[(df.isFraud == 1) & (df.type == 'TRANSFER')]))) # 4097\n",
    "\n",
    "print ('Total number of Records with fraudulent CASH_OUTs = {}'.format(len(df.loc[(df.isFraud == 1) & (df.type == 'CASH_OUT')]))) # 4116\n",
    "\n",
    "print ('Total number of Records with isFlaggedfraudulent with TRANSFERs = {}'.format(len(df.loc[(df.isFlaggedFraud   == 1) & (df.type == 'TRANSFER')])))\n",
    "\n",
    "print ('Total number of Records with  isFlaggedfraudulent with CASH_OUTs = {}'.format(len(df.loc[(df.isFlaggedFraud == 1) & (df.type == 'CASH_OUT')])))\n",
    "\n",
    "\n"
   ]
  },
  {
   "cell_type": "markdown",
   "metadata": {
    "_cell_guid": "e599bb1d-89ae-4c01-9ec7-de6d2960d4ad",
    "_uuid": "5a5d627e0d65abba7a8209209fdeb73b0e0f6ca3"
   },
   "source": [
    "<a href='#top'>back to top</a>"
   ]
  },
  {
   "cell_type": "markdown",
   "metadata": {
    "_cell_guid": "cb401745-33d3-42df-a226-12a84fb04bd9",
    "_uuid": "86a79448bf138b3b4c249c5be4b812dbce492e9a"
   },
   "source": [
    "<a id='clean'></a>\n",
    "# 3. Data Cleansing"
   ]
  },
  {
   "cell_type": "markdown",
   "metadata": {
    "_cell_guid": "cdd94133-5730-4f31-9a7e-c23c1322edb2",
    "_uuid": "a5b91ecc33d7f51bec7e5e357edef789e2459d12"
   },
   "source": [
    "Exploratory data analysis describes that  fraud is present only in TRANSFER and CASH_OUT categrories. Based on the result, we build a limited dataset of all TRANSFER and CASH_OUT "
   ]
  },
  {
   "cell_type": "code",
   "execution_count": 17,
   "metadata": {
    "_cell_guid": "bc50e596-b0f3-4e63-877d-d506e2528cd1",
    "_uuid": "42807f63bb86782daedce8dfa7ba1385458c84c9"
   },
   "outputs": [],
   "source": [
    "X = df.loc[(df.type == 'TRANSFER') | (df.type == 'CASH_OUT')]\n",
    "\n",
    "randomState = 5\n",
    "np.random.seed(randomState)\n",
    "\n",
    "Y = X['isFraud']\n",
    "del X['isFraud']\n",
    "\n",
    "# Eliminate columns shown to be irrelevant for analysis in the EDA\n",
    "X = X.drop(['nameOrig', 'nameDest', 'isFlaggedFraud'], axis = 1)\n",
    "\n",
    "# Binary-encoding of labelled data in 'type'\n",
    "X.loc[X.type == 'TRANSFER', 'type'] = 0\n",
    "X.loc[X.type == 'CASH_OUT', 'type'] = 1\n",
    "X.type = X.type.astype(int) # convert dtype('O') to dtype(int)"
   ]
  },
  {
   "cell_type": "code",
   "execution_count": 18,
   "metadata": {},
   "outputs": [
    {
     "name": "stdout",
     "output_type": "stream",
     "text": [
      "    step  type     amount  oldbalanceOrg  newbalanceOrig  oldbalanceDest  \\\n",
      "2      1     0     181.00          181.0             0.0             0.0   \n",
      "3      1     1     181.00          181.0             0.0         21182.0   \n",
      "15     1     1  229133.94        15325.0             0.0          5083.0   \n",
      "19     1     0  215310.30          705.0             0.0         22425.0   \n",
      "24     1     0  311685.89        10835.0             0.0          6267.0   \n",
      "\n",
      "    newbalanceDest  \n",
      "2             0.00  \n",
      "3             0.00  \n",
      "15        51513.44  \n",
      "19            0.00  \n",
      "24      2719172.89  \n"
     ]
    }
   ],
   "source": [
    "print(X.head())"
   ]
  },
  {
   "cell_type": "markdown",
   "metadata": {
    "_cell_guid": "9e10d9ff-0cc1-4c4b-9dd2-6772b6ffbc12",
    "_uuid": "51ae3efbe461831c91c595096021a362928312fe"
   },
   "source": [
    "<a href='#top'>back to top</a>"
   ]
  },
  {
   "cell_type": "code",
   "execution_count": 19,
   "metadata": {
    "_cell_guid": "66d77c97-6da1-48f5-83ca-ef3412e2d2bd",
    "_uuid": "a9c3802f68e765be4450b6f48178e99c0ec9bf68"
   },
   "outputs": [
    {
     "name": "stdout",
     "output_type": "stream",
     "text": [
      "skew = 0.002964544224336551\n"
     ]
    }
   ],
   "source": [
    "#Idenfity the Skewness in the data. \n",
    "Xfraud = X.loc[Y == 1] # update Xfraud & XnonFraud with cleaned data\n",
    "XnonFraud = X.loc[Y == 0]\n",
    "                  \n",
    "print('skew = {}'.format( len(Xfraud) / float(len(X)) ))"
   ]
  },
  {
   "cell_type": "markdown",
   "metadata": {},
   "source": [
    "# Building Machine Learning Model"
   ]
  },
  {
   "cell_type": "markdown",
   "metadata": {
    "_cell_guid": "6e3d45e6-5bf7-4c97-845f-3a3bce01252c",
    "_uuid": "ac08bdf806601f6b0921d60c2a37aa58f4798b82"
   },
   "source": [
    "## 1)Using XGBoost Classifier"
   ]
  },
  {
   "cell_type": "code",
   "execution_count": 55,
   "metadata": {
    "_cell_guid": "d42493c5-061b-4b5e-8a51-ac4b77ddb7e8",
    "_uuid": "86740e8f7845c4eb12f979f5e7af87be19022110"
   },
   "outputs": [],
   "source": [
    "#Splittingdata into training and test sets with a ratio 80:20\n",
    "trainX, testX, trainY, testY = train_test_split(X, Y, test_size = 0.2, random_state = randomState)"
   ]
  },
  {
   "cell_type": "code",
   "execution_count": 80,
   "metadata": {
    "_cell_guid": "7a1c6c5c-564d-4f10-9b48-02d2e287d82f",
    "_uuid": "bd071708fd0b0b93fdbd973fce9126f91f8dd871"
   },
   "outputs": [
    {
     "name": "stdout",
     "output_type": "stream",
     "text": [
      "AUPRC = 0.9436219544389146\n"
     ]
    }
   ],
   "source": [
    "# Takes time to compute\n",
    "weights = (Y == 0).sum() / (1.0 * (Y == 1).sum())\n",
    "clf = XGBClassifier(max_depth = 3, scale_pos_weight = weights, n_jobs = 4)\n",
    "probabilities = clf.fit(trainX, trainY).predict_proba(testX)\n",
    "print('AUPRC = {}'.format(average_precision_score(testY, probabilities[:, 1])))"
   ]
  },
  {
   "cell_type": "code",
   "execution_count": null,
   "metadata": {},
   "outputs": [],
   "source": [
    "fig = plt.figure(figsize = (14, 9))\n",
    "ax = fig.add_subplot(111)\n",
    "\n",
    "colours = plt.cm.Set1(np.linspace(0, 1, 9))\n",
    "\n",
    "ax = plot_importance(slf, height = 1, color = colours, grid = False, show_values = False, importance_type = 'cover', ax = ax);\n",
    "for axis in ['top','bottom','left','right']:\n",
    "            ax.spines[axis].set_linewidth(2)\n",
    "        \n",
    "ax.set_xlabel('importance score', size = 16);\n",
    "ax.set_ylabel('features', size = 16);\n",
    "ax.set_yticklabels(ax.get_yticklabels(), size = 12);\n",
    "ax.set_title('Ordering of features by importance to the model learnt', size = 20);"
   ]
  },
  {
   "cell_type": "code",
   "execution_count": null,
   "metadata": {},
   "outputs": [],
   "source": [
    "to_graphviz(slf)"
   ]
  },
  {
   "cell_type": "code",
   "execution_count": 31,
   "metadata": {},
   "outputs": [
    {
     "name": "stdout",
     "output_type": "stream",
     "text": [
      "Saved Model\n"
     ]
    }
   ],
   "source": [
    "clf.save_model(\"fin_pay_fraud.ml\")\n",
    "print(\"Saved Model\")"
   ]
  },
  {
   "cell_type": "code",
   "execution_count": 20,
   "metadata": {},
   "outputs": [
    {
     "name": "stdout",
     "output_type": "stream",
     "text": [
      "loaded model\n"
     ]
    }
   ],
   "source": [
    "slf= XGBClassifier()\n",
    "slf.load_model(\"fin_pay_fraud.ml\")\n",
    "print(\"loaded model\")"
   ]
  },
  {
   "cell_type": "code",
   "execution_count": 71,
   "metadata": {},
   "outputs": [
    {
     "name": "stderr",
     "output_type": "stream",
     "text": [
      "/Users/tvengal/opt/anaconda3/lib/python3.7/site-packages/sklearn/base.py:197: FutureWarning: From version 0.24, get_params will raise an AttributeError if a parameter cannot be retrieved as an instance attribute. Previously it would return None.\n",
      "  FutureWarning)\n"
     ]
    },
    {
     "name": "stdout",
     "output_type": "stream",
     "text": [
      "Standard output is empty\n",
      "Standard error:\n",
      "Jun 12, 2020 1:38:10 PM org.jpmml.sklearn.Main run\n",
      "INFO: Parsing PKL..\n",
      "Jun 12, 2020 1:38:10 PM org.jpmml.sklearn.Main run\n",
      "INFO: Parsed PKL in 12 ms.\n",
      "Jun 12, 2020 1:38:10 PM org.jpmml.sklearn.Main run\n",
      "INFO: Converting..\n",
      "Jun 12, 2020 1:38:10 PM sklearn2pmml.pipeline.PMMLPipeline initTargetFields\n",
      "WARNING: Attribute 'sklearn2pmml.pipeline.PMMLPipeline.target_fields' is not set. Assuming y as the name of the target field\n",
      "Jun 12, 2020 1:38:10 PM org.jpmml.sklearn.Main run\n",
      "SEVERE: Failed to convert\n",
      "java.lang.IllegalArgumentException: Attribute 'xgboost.sklearn.XGBClassifier._le' not set\n",
      "\tat org.jpmml.python.PyClassDict.get(PyClassDict.java:68)\n",
      "\tat sklearn.LabelEncoderClassifier.getLabelEncoder(LabelEncoderClassifier.java:40)\n",
      "\tat sklearn.LabelEncoderClassifier.getClasses(LabelEncoderClassifier.java:34)\n",
      "\tat sklearn.ClassifierUtil.getClasses(ClassifierUtil.java:32)\n",
      "\tat sklearn2pmml.pipeline.PMMLPipeline.encodePMML(PMMLPipeline.java:132)\n",
      "\tat org.jpmml.sklearn.Main.run(Main.java:233)\n",
      "\tat org.jpmml.sklearn.Main.main(Main.java:151)\n",
      "\n",
      "Exception in thread \"main\" java.lang.IllegalArgumentException: Attribute 'xgboost.sklearn.XGBClassifier._le' not set\n",
      "\tat org.jpmml.python.PyClassDict.get(PyClassDict.java:68)\n",
      "\tat sklearn.LabelEncoderClassifier.getLabelEncoder(LabelEncoderClassifier.java:40)\n",
      "\tat sklearn.LabelEncoderClassifier.getClasses(LabelEncoderClassifier.java:34)\n",
      "\tat sklearn.ClassifierUtil.getClasses(ClassifierUtil.java:32)\n",
      "\tat sklearn2pmml.pipeline.PMMLPipeline.encodePMML(PMMLPipeline.java:132)\n",
      "\tat org.jpmml.sklearn.Main.run(Main.java:233)\n",
      "\tat org.jpmml.sklearn.Main.main(Main.java:151)\n",
      "\n"
     ]
    },
    {
     "ename": "RuntimeError",
     "evalue": "The JPMML-SkLearn conversion application has failed. The Java executable should have printed more information about the failure into its standard output and/or standard error streams",
     "output_type": "error",
     "traceback": [
      "\u001b[0;31m---------------------------------------------------------------------------\u001b[0m",
      "\u001b[0;31mRuntimeError\u001b[0m                              Traceback (most recent call last)",
      "\u001b[0;32m<ipython-input-71-d639e634ffc9>\u001b[0m in \u001b[0;36m<module>\u001b[0;34m\u001b[0m\n\u001b[1;32m      6\u001b[0m \u001b[0;34m\u001b[0m\u001b[0m\n\u001b[1;32m      7\u001b[0m \u001b[0;34m\u001b[0m\u001b[0m\n\u001b[0;32m----> 8\u001b[0;31m \u001b[0msklearn2pmml\u001b[0m\u001b[0;34m(\u001b[0m\u001b[0mpipeline\u001b[0m\u001b[0;34m,\u001b[0m\u001b[0;34m\"fin_pay_fraud-xgb.pmml\"\u001b[0m\u001b[0;34m,\u001b[0m \u001b[0mwith_repr\u001b[0m\u001b[0;34m=\u001b[0m\u001b[0;32mTrue\u001b[0m\u001b[0;34m)\u001b[0m\u001b[0;34m\u001b[0m\u001b[0;34m\u001b[0m\u001b[0m\n\u001b[0m",
      "\u001b[0;32m~/opt/anaconda3/lib/python3.7/site-packages/sklearn2pmml/__init__.py\u001b[0m in \u001b[0;36msklearn2pmml\u001b[0;34m(pipeline, pmml, user_classpath, with_repr, debug, java_encoding)\u001b[0m\n\u001b[1;32m    264\u001b[0m                                 \u001b[0mprint\u001b[0m\u001b[0;34m(\u001b[0m\u001b[0;34m\"Standard error is empty\"\u001b[0m\u001b[0;34m)\u001b[0m\u001b[0;34m\u001b[0m\u001b[0;34m\u001b[0m\u001b[0m\n\u001b[1;32m    265\u001b[0m                 \u001b[0;32mif\u001b[0m \u001b[0mretcode\u001b[0m\u001b[0;34m:\u001b[0m\u001b[0;34m\u001b[0m\u001b[0;34m\u001b[0m\u001b[0m\n\u001b[0;32m--> 266\u001b[0;31m                         \u001b[0;32mraise\u001b[0m \u001b[0mRuntimeError\u001b[0m\u001b[0;34m(\u001b[0m\u001b[0;34m\"The JPMML-SkLearn conversion application has failed. The Java executable should have printed more information about the failure into its standard output and/or standard error streams\"\u001b[0m\u001b[0;34m)\u001b[0m\u001b[0;34m\u001b[0m\u001b[0;34m\u001b[0m\u001b[0m\n\u001b[0m\u001b[1;32m    267\u001b[0m         \u001b[0;32mfinally\u001b[0m\u001b[0;34m:\u001b[0m\u001b[0;34m\u001b[0m\u001b[0;34m\u001b[0m\u001b[0m\n\u001b[1;32m    268\u001b[0m                 \u001b[0;32mif\u001b[0m \u001b[0mdebug\u001b[0m\u001b[0;34m:\u001b[0m\u001b[0;34m\u001b[0m\u001b[0;34m\u001b[0m\u001b[0m\n",
      "\u001b[0;31mRuntimeError\u001b[0m: The JPMML-SkLearn conversion application has failed. The Java executable should have printed more information about the failure into its standard output and/or standard error streams"
     ]
    }
   ],
   "source": [
    "from sklearn2pmml import PMMLPipeline\n",
    "from sklearn2pmml import sklearn2pmml\n",
    "weights = (Y == 0).sum() / (1.0 * (Y == 1).sum())\n",
    "clf1 =  XGBClassifier(max_depth = 3, scale_pos_weight = weights, n_jobs = 4)\n",
    "pipeline =  PMMLPipeline([(\"estimator\", clf2)])\n",
    "\n",
    "\n",
    "sklearn2pmml(pipeline,\"fin_pay_fraud-xgb.pmml\", with_repr=True)"
   ]
  },
  {
   "cell_type": "markdown",
   "metadata": {
    "_cell_guid": "c4cd5e93-8038-4cba-a48d-f3e227db1f54",
    "_uuid": "ed0275e8371cc951382844a61def5a9c994e4d78"
   },
   "source": [
    "<a href='#top'>back to top</a>"
   ]
  },
  {
   "cell_type": "markdown",
   "metadata": {},
   "source": [
    "## 2)Using RandomForest Classifier"
   ]
  },
  {
   "cell_type": "code",
   "execution_count": 14,
   "metadata": {},
   "outputs": [],
   "source": [
    "import numpy as np\n",
    "import pandas as pd\n",
    "import seaborn as sns\n",
    "from IPython.display import display\n",
    "import matplotlib.pyplot as plt\n",
    "from sklearn.cluster import KMeans\n",
    "from sklearn.preprocessing import MinMaxScaler\n",
    "import pickle\n",
    "\n",
    "data = pd.read_csv(\"PS_20174392719_1491204439457_log.csv\")\n"
   ]
  },
  {
   "cell_type": "code",
   "execution_count": 5,
   "metadata": {},
   "outputs": [
    {
     "data": {
      "text/html": [
       "<div>\n",
       "<style scoped>\n",
       "    .dataframe tbody tr th:only-of-type {\n",
       "        vertical-align: middle;\n",
       "    }\n",
       "\n",
       "    .dataframe tbody tr th {\n",
       "        vertical-align: top;\n",
       "    }\n",
       "\n",
       "    .dataframe thead th {\n",
       "        text-align: right;\n",
       "    }\n",
       "</style>\n",
       "<table border=\"1\" class=\"dataframe\">\n",
       "  <thead>\n",
       "    <tr style=\"text-align: right;\">\n",
       "      <th></th>\n",
       "      <th>step</th>\n",
       "      <th>type</th>\n",
       "      <th>amount</th>\n",
       "      <th>nameOrig</th>\n",
       "      <th>oldbalanceOrg</th>\n",
       "      <th>newbalanceOrig</th>\n",
       "      <th>nameDest</th>\n",
       "      <th>oldbalanceDest</th>\n",
       "      <th>newbalanceDest</th>\n",
       "      <th>isFraud</th>\n",
       "      <th>isFlaggedFraud</th>\n",
       "    </tr>\n",
       "  </thead>\n",
       "  <tbody>\n",
       "    <tr>\n",
       "      <th>0</th>\n",
       "      <td>1</td>\n",
       "      <td>PAYMENT</td>\n",
       "      <td>9839.64</td>\n",
       "      <td>C1231006815</td>\n",
       "      <td>170136.0</td>\n",
       "      <td>160296.36</td>\n",
       "      <td>M1979787155</td>\n",
       "      <td>0.0</td>\n",
       "      <td>0.0</td>\n",
       "      <td>0</td>\n",
       "      <td>0</td>\n",
       "    </tr>\n",
       "    <tr>\n",
       "      <th>1</th>\n",
       "      <td>1</td>\n",
       "      <td>PAYMENT</td>\n",
       "      <td>1864.28</td>\n",
       "      <td>C1666544295</td>\n",
       "      <td>21249.0</td>\n",
       "      <td>19384.72</td>\n",
       "      <td>M2044282225</td>\n",
       "      <td>0.0</td>\n",
       "      <td>0.0</td>\n",
       "      <td>0</td>\n",
       "      <td>0</td>\n",
       "    </tr>\n",
       "    <tr>\n",
       "      <th>2</th>\n",
       "      <td>1</td>\n",
       "      <td>TRANSFER</td>\n",
       "      <td>181.00</td>\n",
       "      <td>C1305486145</td>\n",
       "      <td>181.0</td>\n",
       "      <td>0.00</td>\n",
       "      <td>C553264065</td>\n",
       "      <td>0.0</td>\n",
       "      <td>0.0</td>\n",
       "      <td>1</td>\n",
       "      <td>0</td>\n",
       "    </tr>\n",
       "    <tr>\n",
       "      <th>3</th>\n",
       "      <td>1</td>\n",
       "      <td>CASH_OUT</td>\n",
       "      <td>181.00</td>\n",
       "      <td>C840083671</td>\n",
       "      <td>181.0</td>\n",
       "      <td>0.00</td>\n",
       "      <td>C38997010</td>\n",
       "      <td>21182.0</td>\n",
       "      <td>0.0</td>\n",
       "      <td>1</td>\n",
       "      <td>0</td>\n",
       "    </tr>\n",
       "    <tr>\n",
       "      <th>4</th>\n",
       "      <td>1</td>\n",
       "      <td>PAYMENT</td>\n",
       "      <td>11668.14</td>\n",
       "      <td>C2048537720</td>\n",
       "      <td>41554.0</td>\n",
       "      <td>29885.86</td>\n",
       "      <td>M1230701703</td>\n",
       "      <td>0.0</td>\n",
       "      <td>0.0</td>\n",
       "      <td>0</td>\n",
       "      <td>0</td>\n",
       "    </tr>\n",
       "  </tbody>\n",
       "</table>\n",
       "</div>"
      ],
      "text/plain": [
       "   step      type    amount     nameOrig  oldbalanceOrg  newbalanceOrig  \\\n",
       "0     1   PAYMENT   9839.64  C1231006815       170136.0       160296.36   \n",
       "1     1   PAYMENT   1864.28  C1666544295        21249.0        19384.72   \n",
       "2     1  TRANSFER    181.00  C1305486145          181.0            0.00   \n",
       "3     1  CASH_OUT    181.00   C840083671          181.0            0.00   \n",
       "4     1   PAYMENT  11668.14  C2048537720        41554.0        29885.86   \n",
       "\n",
       "      nameDest  oldbalanceDest  newbalanceDest  isFraud  isFlaggedFraud  \n",
       "0  M1979787155             0.0             0.0        0               0  \n",
       "1  M2044282225             0.0             0.0        0               0  \n",
       "2   C553264065             0.0             0.0        1               0  \n",
       "3    C38997010         21182.0             0.0        1               0  \n",
       "4  M1230701703             0.0             0.0        0               0  "
      ]
     },
     "execution_count": 5,
     "metadata": {},
     "output_type": "execute_result"
    }
   ],
   "source": [
    "data.head()"
   ]
  },
  {
   "cell_type": "code",
   "execution_count": 6,
   "metadata": {},
   "outputs": [
    {
     "data": {
      "image/png": "[encoded data removed]",
      "text/plain": [
       "<Figure size 432x288 with 1 Axes>"
      ]
     },
     "metadata": {
      "needs_background": "light"
     },
     "output_type": "display_data"
    },
    {
     "data": {
      "image/png": "[encoded data removed]",
      "text/plain": [
       "<Figure size 432x288 with 1 Axes>"
      ]
     },
     "metadata": {
      "needs_background": "light"
     },
     "output_type": "display_data"
    }
   ],
   "source": [
    "plt.hist(data['oldbalanceOrg'], density=True, bins=10000)  # `density=False` would make counts\n",
    "plt.xlim(np.percentile(data['oldbalanceOrg'].values, 5), np.percentile(data['oldbalanceOrg'].values, 80))\n",
    "# plt.ylabel('Probability')\n",
    "plt.xlabel('oldbalanceOrg')\n",
    "plt.show()\n",
    "\n",
    "plt.hist(data['newbalanceOrig'], density=True, bins=10000)  # `density=False` would make counts\n",
    "plt.xlim(np.percentile(data['newbalanceOrig'].values, 5), np.percentile(data['newbalanceOrig'].values, 80))\n",
    "# plt.ylabel('Probability')\n",
    "plt.xlabel('newbalanceOrig')\n",
    "plt.show()"
   ]
  },
  {
   "cell_type": "code",
   "execution_count": 7,
   "metadata": {},
   "outputs": [
    {
     "data": {
      "text/html": [
       "<div>\n",
       "<style scoped>\n",
       "    .dataframe tbody tr th:only-of-type {\n",
       "        vertical-align: middle;\n",
       "    }\n",
       "\n",
       "    .dataframe tbody tr th {\n",
       "        vertical-align: top;\n",
       "    }\n",
       "\n",
       "    .dataframe thead th {\n",
       "        text-align: right;\n",
       "    }\n",
       "</style>\n",
       "<table border=\"1\" class=\"dataframe\">\n",
       "  <thead>\n",
       "    <tr style=\"text-align: right;\">\n",
       "      <th></th>\n",
       "      <th>step</th>\n",
       "      <th>type</th>\n",
       "      <th>amount</th>\n",
       "      <th>nameOrig</th>\n",
       "      <th>oldbalanceOrg</th>\n",
       "      <th>newbalanceOrig</th>\n",
       "      <th>nameDest</th>\n",
       "      <th>oldbalanceDest</th>\n",
       "      <th>newbalanceDest</th>\n",
       "      <th>isFraud</th>\n",
       "      <th>isFlaggedFraud</th>\n",
       "    </tr>\n",
       "  </thead>\n",
       "  <tbody>\n",
       "    <tr>\n",
       "      <th>0</th>\n",
       "      <td>1</td>\n",
       "      <td>3</td>\n",
       "      <td>9839.64</td>\n",
       "      <td>757869</td>\n",
       "      <td>170136.0</td>\n",
       "      <td>160296.36</td>\n",
       "      <td>1662094</td>\n",
       "      <td>0.0</td>\n",
       "      <td>0.0</td>\n",
       "      <td>0</td>\n",
       "      <td>0</td>\n",
       "    </tr>\n",
       "    <tr>\n",
       "      <th>1</th>\n",
       "      <td>1</td>\n",
       "      <td>3</td>\n",
       "      <td>1864.28</td>\n",
       "      <td>2188998</td>\n",
       "      <td>21249.0</td>\n",
       "      <td>19384.72</td>\n",
       "      <td>1733924</td>\n",
       "      <td>0.0</td>\n",
       "      <td>0.0</td>\n",
       "      <td>0</td>\n",
       "      <td>0</td>\n",
       "    </tr>\n",
       "    <tr>\n",
       "      <th>2</th>\n",
       "      <td>1</td>\n",
       "      <td>4</td>\n",
       "      <td>181.00</td>\n",
       "      <td>1002156</td>\n",
       "      <td>181.0</td>\n",
       "      <td>0.00</td>\n",
       "      <td>439685</td>\n",
       "      <td>0.0</td>\n",
       "      <td>0.0</td>\n",
       "      <td>1</td>\n",
       "      <td>0</td>\n",
       "    </tr>\n",
       "    <tr>\n",
       "      <th>3</th>\n",
       "      <td>1</td>\n",
       "      <td>1</td>\n",
       "      <td>181.00</td>\n",
       "      <td>5828262</td>\n",
       "      <td>181.0</td>\n",
       "      <td>0.00</td>\n",
       "      <td>391696</td>\n",
       "      <td>21182.0</td>\n",
       "      <td>0.0</td>\n",
       "      <td>1</td>\n",
       "      <td>0</td>\n",
       "    </tr>\n",
       "    <tr>\n",
       "      <th>4</th>\n",
       "      <td>1</td>\n",
       "      <td>3</td>\n",
       "      <td>11668.14</td>\n",
       "      <td>3445981</td>\n",
       "      <td>41554.0</td>\n",
       "      <td>29885.86</td>\n",
       "      <td>828919</td>\n",
       "      <td>0.0</td>\n",
       "      <td>0.0</td>\n",
       "      <td>0</td>\n",
       "      <td>0</td>\n",
       "    </tr>\n",
       "  </tbody>\n",
       "</table>\n",
       "</div>"
      ],
      "text/plain": [
       "   step  type    amount  nameOrig  oldbalanceOrg  newbalanceOrig  nameDest  \\\n",
       "0     1     3   9839.64    757869       170136.0       160296.36   1662094   \n",
       "1     1     3   1864.28   2188998        21249.0        19384.72   1733924   \n",
       "2     1     4    181.00   1002156          181.0            0.00    439685   \n",
       "3     1     1    181.00   5828262          181.0            0.00    391696   \n",
       "4     1     3  11668.14   3445981        41554.0        29885.86    828919   \n",
       "\n",
       "   oldbalanceDest  newbalanceDest  isFraud  isFlaggedFraud  \n",
       "0             0.0             0.0        0               0  \n",
       "1             0.0             0.0        0               0  \n",
       "2             0.0             0.0        1               0  \n",
       "3         21182.0             0.0        1               0  \n",
       "4             0.0             0.0        0               0  "
      ]
     },
     "execution_count": 7,
     "metadata": {},
     "output_type": "execute_result"
    }
   ],
   "source": [
    "# convert the columns as Category\n",
    "data['type'] = data['type'].astype('category')\n",
    "data['type'] = data['type'].cat.codes\n",
    "data['nameOrig'] = data['nameOrig'].astype('category')\n",
    "data['nameOrig'] = data['nameOrig'].cat.codes\n",
    "data['nameDest'] = data['nameDest'].astype('category')\n",
    "data['nameDest'] = data['nameDest'].cat.codes\n",
    "data.head()"
   ]
  },
  {
   "cell_type": "code",
   "execution_count": 8,
   "metadata": {},
   "outputs": [
    {
     "data": {
      "text/html": [
       "<div>\n",
       "<style scoped>\n",
       "    .dataframe tbody tr th:only-of-type {\n",
       "        vertical-align: middle;\n",
       "    }\n",
       "\n",
       "    .dataframe tbody tr th {\n",
       "        vertical-align: top;\n",
       "    }\n",
       "\n",
       "    .dataframe thead th {\n",
       "        text-align: right;\n",
       "    }\n",
       "</style>\n",
       "<table border=\"1\" class=\"dataframe\">\n",
       "  <thead>\n",
       "    <tr style=\"text-align: right;\">\n",
       "      <th></th>\n",
       "      <th>isFraud</th>\n",
       "      <th>isFlaggedFraud</th>\n",
       "    </tr>\n",
       "  </thead>\n",
       "  <tbody>\n",
       "    <tr>\n",
       "      <th>0</th>\n",
       "      <td>0</td>\n",
       "      <td>0</td>\n",
       "    </tr>\n",
       "    <tr>\n",
       "      <th>1</th>\n",
       "      <td>0</td>\n",
       "      <td>0</td>\n",
       "    </tr>\n",
       "    <tr>\n",
       "      <th>2</th>\n",
       "      <td>1</td>\n",
       "      <td>0</td>\n",
       "    </tr>\n",
       "    <tr>\n",
       "      <th>3</th>\n",
       "      <td>1</td>\n",
       "      <td>0</td>\n",
       "    </tr>\n",
       "    <tr>\n",
       "      <th>4</th>\n",
       "      <td>0</td>\n",
       "      <td>0</td>\n",
       "    </tr>\n",
       "  </tbody>\n",
       "</table>\n",
       "</div>"
      ],
      "text/plain": [
       "   isFraud  isFlaggedFraud\n",
       "0        0               0\n",
       "1        0               0\n",
       "2        1               0\n",
       "3        1               0\n",
       "4        0               0"
      ]
     },
     "execution_count": 8,
     "metadata": {},
     "output_type": "execute_result"
    }
   ],
   "source": [
    "labels = ['isFraud', 'isFlaggedFraud']\n",
    "y = data[labels]\n",
    "y.head()"
   ]
  },
  {
   "cell_type": "code",
   "execution_count": 9,
   "metadata": {},
   "outputs": [
    {
     "data": {
      "text/plain": [
       "<matplotlib.axes._subplots.AxesSubplot at 0x7fe01bdabf50>"
      ]
     },
     "execution_count": 9,
     "metadata": {},
     "output_type": "execute_result"
    },
    {
     "data": {
      "image/png": "[encoded data removed]",
      "text/plain": [
       "<Figure size 432x288 with 2 Axes>"
      ]
     },
     "metadata": {
      "needs_background": "light"
     },
     "output_type": "display_data"
    }
   ],
   "source": [
    "sns.heatmap(data.corr(), annot=True)"
   ]
  },
  {
   "cell_type": "code",
   "execution_count": 10,
   "metadata": {},
   "outputs": [
    {
     "data": {
      "image/png": "[encoded data removed]",
      "text/plain": [
       "<Figure size 576x432 with 1 Axes>"
      ]
     },
     "metadata": {},
     "output_type": "display_data"
    }
   ],
   "source": [
    "\n",
    "x =len(data[data['isFraud'] == 1])\n",
    "y = len(data[data['isFraud']== 0])\n",
    "plt.figure(figsize=(8,6))\n",
    "# Data to plot\n",
    "plt.title('Fraud vs non Fraud')\n",
    "labels = 'Fraud','non-Fraud'\n",
    "sizes = [x,y]\n",
    "colors = ['red', 'yellowgreen']\n",
    "explode = (0, 0)  # explode 1st slice\n",
    " \n",
    "# Plot\n",
    "plt.pie(sizes, explode=explode, labels=labels, colors=colors,\n",
    "autopct='%1.1f%%', shadow=True, startangle=90)\n",
    " \n",
    "plt.axis('equal')\n",
    "plt.show()"
   ]
  },
  {
   "cell_type": "code",
   "execution_count": 11,
   "metadata": {},
   "outputs": [
    {
     "data": {
      "text/html": [
       "<div>\n",
       "<style scoped>\n",
       "    .dataframe tbody tr th:only-of-type {\n",
       "        vertical-align: middle;\n",
       "    }\n",
       "\n",
       "    .dataframe tbody tr th {\n",
       "        vertical-align: top;\n",
       "    }\n",
       "\n",
       "    .dataframe thead th {\n",
       "        text-align: right;\n",
       "    }\n",
       "</style>\n",
       "<table border=\"1\" class=\"dataframe\">\n",
       "  <thead>\n",
       "    <tr style=\"text-align: right;\">\n",
       "      <th></th>\n",
       "      <th>step</th>\n",
       "      <th>type</th>\n",
       "      <th>amount</th>\n",
       "      <th>oldbalanceOrg</th>\n",
       "      <th>newbalanceOrig</th>\n",
       "      <th>oldbalanceDest</th>\n",
       "      <th>newbalanceDest</th>\n",
       "    </tr>\n",
       "  </thead>\n",
       "  <tbody>\n",
       "    <tr>\n",
       "      <th>0</th>\n",
       "      <td>1</td>\n",
       "      <td>3</td>\n",
       "      <td>9839.64</td>\n",
       "      <td>170136.0</td>\n",
       "      <td>160296.36</td>\n",
       "      <td>0.0</td>\n",
       "      <td>0.0</td>\n",
       "    </tr>\n",
       "    <tr>\n",
       "      <th>1</th>\n",
       "      <td>1</td>\n",
       "      <td>3</td>\n",
       "      <td>1864.28</td>\n",
       "      <td>21249.0</td>\n",
       "      <td>19384.72</td>\n",
       "      <td>0.0</td>\n",
       "      <td>0.0</td>\n",
       "    </tr>\n",
       "    <tr>\n",
       "      <th>2</th>\n",
       "      <td>1</td>\n",
       "      <td>4</td>\n",
       "      <td>181.00</td>\n",
       "      <td>181.0</td>\n",
       "      <td>0.00</td>\n",
       "      <td>0.0</td>\n",
       "      <td>0.0</td>\n",
       "    </tr>\n",
       "    <tr>\n",
       "      <th>3</th>\n",
       "      <td>1</td>\n",
       "      <td>1</td>\n",
       "      <td>181.00</td>\n",
       "      <td>181.0</td>\n",
       "      <td>0.00</td>\n",
       "      <td>21182.0</td>\n",
       "      <td>0.0</td>\n",
       "    </tr>\n",
       "    <tr>\n",
       "      <th>4</th>\n",
       "      <td>1</td>\n",
       "      <td>3</td>\n",
       "      <td>11668.14</td>\n",
       "      <td>41554.0</td>\n",
       "      <td>29885.86</td>\n",
       "      <td>0.0</td>\n",
       "      <td>0.0</td>\n",
       "    </tr>\n",
       "  </tbody>\n",
       "</table>\n",
       "</div>"
      ],
      "text/plain": [
       "   step  type    amount  oldbalanceOrg  newbalanceOrig  oldbalanceDest  \\\n",
       "0     1     3   9839.64       170136.0       160296.36             0.0   \n",
       "1     1     3   1864.28        21249.0        19384.72             0.0   \n",
       "2     1     4    181.00          181.0            0.00             0.0   \n",
       "3     1     1    181.00          181.0            0.00         21182.0   \n",
       "4     1     3  11668.14        41554.0        29885.86             0.0   \n",
       "\n",
       "   newbalanceDest  \n",
       "0             0.0  \n",
       "1             0.0  \n",
       "2             0.0  \n",
       "3             0.0  \n",
       "4             0.0  "
      ]
     },
     "execution_count": 11,
     "metadata": {},
     "output_type": "execute_result"
    }
   ],
   "source": [
    "from sklearn.model_selection import train_test_split\n",
    "from sklearn.tree import DecisionTreeClassifier\n",
    "from sklearn.model_selection import GridSearchCV, StratifiedKFold\n",
    "from sklearn.ensemble import RandomForestClassifier\n",
    "\n",
    "y = data[\"isFraud\"]\n",
    "X = data.drop(\"isFraud\", axis=1)\n",
    "X = X.drop(\"isFlaggedFraud\", axis=1)\n",
    "X = X.drop(\"nameOrig\", axis=1)\n",
    "X = X.drop(\"nameDest\", axis=1)\n",
    "# X = data.drop(\"isFlaggedFraud\", axis=1)\n",
    "X.head()"
   ]
  },
  {
   "cell_type": "code",
   "execution_count": 12,
   "metadata": {},
   "outputs": [],
   "source": [
    "tuned_parameters = [{'min_samples_split': [2, 3, 4, 5, 8, 10]}, {'min_samples_leaf': [1, 2]}, {'class_weight': [None, \"balanced\"]}]\n",
    "_scoring = \"roc_auc\"\n",
    "X_train, X_test, y_train, y_test = train_test_split(X, y, test_size = 0.2, random_state = 10, stratify = y)"
   ]
  },
  {
   "cell_type": "code",
   "execution_count": 48,
   "metadata": {},
   "outputs": [
    {
     "data": {
      "text/plain": [
       "RandomForestClassifier(bootstrap=True, ccp_alpha=0.0, class_weight=None,\n",
       "                       criterion='gini', max_depth=10, max_features='auto',\n",
       "                       max_leaf_nodes=None, max_samples=None,\n",
       "                       min_impurity_decrease=0.0, min_impurity_split=None,\n",
       "                       min_samples_leaf=1, min_samples_split=2,\n",
       "                       min_weight_fraction_leaf=0.0, n_estimators=200,\n",
       "                       n_jobs=None, oob_score=False, random_state=0, verbose=0,\n",
       "                       warm_start=False)"
      ]
     },
     "execution_count": 48,
     "metadata": {},
     "output_type": "execute_result"
    }
   ],
   "source": [
    "# Long run time to create the model\n",
    "clf = RandomForestClassifier(n_estimators=200, max_depth=10, random_state=0)\n",
    "clf.fit(X_train, y_train)"
   ]
  },
  {
   "cell_type": "code",
   "execution_count": 32,
   "metadata": {},
   "outputs": [],
   "source": [
    "# explain the model's predictions using SHAP\n",
    "# (same syntax works for LightGBM, CatBoost, scikit-learn and spark models)\n",
    "#explainer = shap.TreeExplainer(model)\n",
    "#shap_values = explainer.shap_values(X_test)"
   ]
  },
  {
   "cell_type": "code",
   "execution_count": 49,
   "metadata": {},
   "outputs": [],
   "source": [
    "#save the model to a pickle file\n",
    "\n",
    "\n",
    "dict_ = {}\n",
    "dict_['train_data'] = [X_train, y_train]\n",
    "dict_['test_data'] = [X_test, y_test]\n",
    "dict_['classifier'] = clf\n",
    "\n",
    "with open('RFClassifier.pickle', 'wb') as handle:\n",
    "    pickle.dump(dict_, handle, protocol=pickle.HIGHEST_PROTOCOL)"
   ]
  },
  {
   "cell_type": "code",
   "execution_count": 15,
   "metadata": {},
   "outputs": [],
   "source": [
    "with open('RFClassifier.pickle', 'rb') as handle:\n",
    "    data = pickle.load(handle)"
   ]
  },
  {
   "cell_type": "code",
   "execution_count": 16,
   "metadata": {},
   "outputs": [
    {
     "data": {
      "text/plain": [
       "dict_keys(['train_data', 'test_data', 'classifier'])"
      ]
     },
     "execution_count": 16,
     "metadata": {},
     "output_type": "execute_result"
    }
   ],
   "source": [
    "data.keys()"
   ]
  },
  {
   "cell_type": "code",
   "execution_count": 17,
   "metadata": {},
   "outputs": [],
   "source": [
    "X_train, y_train = data['train_data'][0], data['train_data'][1]\n",
    "X_test, y_test = data['test_data'][0], data['test_data'][1]\n",
    "clf = data['classifier']"
   ]
  },
  {
   "cell_type": "code",
   "execution_count": 18,
   "metadata": {},
   "outputs": [
    {
     "data": {
      "text/plain": [
       "0.860314527078563"
      ]
     },
     "execution_count": 18,
     "metadata": {},
     "output_type": "execute_result"
    }
   ],
   "source": [
    "pred = clf.predict(X_test)\n",
    "from sklearn.metrics import roc_auc_score\n",
    "roc_auc_score( y_test, pred)"
   ]
  },
  {
   "cell_type": "code",
   "execution_count": 19,
   "metadata": {},
   "outputs": [
    {
     "data": {
      "text/plain": [
       "array([[1270876,       5],\n",
       "       [    459,    1184]])"
      ]
     },
     "execution_count": 19,
     "metadata": {},
     "output_type": "execute_result"
    }
   ],
   "source": [
    "from sklearn import  metrics\n",
    "\n",
    "metrics.confusion_matrix(y_test, pred)"
   ]
  },
  {
   "cell_type": "code",
   "execution_count": null,
   "metadata": {},
   "outputs": [
    {
     "name": "stderr",
     "output_type": "stream",
     "text": [
      "/Users/tvengal/opt/anaconda3/lib/python3.7/site-packages/sklearn/base.py:197: FutureWarning: From version 0.24, get_params will raise an AttributeError if a parameter cannot be retrieved as an instance attribute. Previously it would return None.\n",
      "  FutureWarning)\n"
     ]
    }
   ],
   "source": [
    "from sklearn2pmml import PMMLPipeline\n",
    "from sklearn2pmml import sklearn2pmml\n",
    "clf2 =  RandomForestClassifier(n_estimators=30)\n",
    "pipeline =  PMMLPipeline([(\"estimator\", clf)])\n",
    "\n",
    "pipeline.fit(X_train,y_train)\n",
    "\n",
    "sklearn2pmml(pipeline,\"fin_pay_fraud-rf.pmml\", with_repr=True)"
   ]
  },
  {
   "cell_type": "code",
   "execution_count": 21,
   "metadata": {
    "_cell_guid": "e9af0368-f772-4170-b827-4ef4ccb1faca",
    "_uuid": "b35967bb8e6fb4beb337404eca84963632461b3a"
   },
   "outputs": [
    {
     "name": "stdout",
     "output_type": "stream",
     "text": [
      "java version \"1.8.0_251\"\r\n",
      "Java(TM) SE Runtime Environment (build 1.8.0_251-b08)\r\n",
      "Java HotSpot(TM) 64-Bit Server VM (build 25.251-b08, mixed mode)\r\n"
     ]
    }
   ],
   "source": [
    "!java -version"
   ]
  },
  {
   "cell_type": "markdown",
   "metadata": {
    "_cell_guid": "22e04a16-6c8a-4d38-8ceb-cb1dfd3ff678",
    "_uuid": "d8214340ed92a6a3f0d26a56d48d3f6590caee5a"
   },
   "source": [
    "<a href='#top'>back to top</a>"
   ]
  }
 ],
 "metadata": {
  "anaconda-cloud": {},
  "kernelspec": {
   "display_name": "Python 3",
   "language": "python",
   "name": "python3"
  },
  "language_info": {
   "codemirror_mode": {
    "name": "ipython",
    "version": 3
   },
   "file_extension": ".py",
   "mimetype": "text/x-python",
   "name": "python",
   "nbconvert_exporter": "python",
   "pygments_lexer": "ipython3",
   "version": "3.7.6"
  }
 },
 "nbformat": 4,
 "nbformat_minor": 4
}
