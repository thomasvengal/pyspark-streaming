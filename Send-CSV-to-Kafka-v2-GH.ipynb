{
 "cells": [
  {
   "cell_type": "markdown",
   "metadata": {},
   "source": [
    "# Python Program for Sending from a CSV file to Kafka "
   ]
  },
  {
   "cell_type": "markdown",
   "metadata": {},
   "source": []
  },
  {
   "cell_type": "code",
   "execution_count": 1,
   "metadata": {},
   "outputs": [],
   "source": [
    "from time import sleep\n",
    "import json\n",
    "from json import dumps\n",
    "from kafka import KafkaProducer\n",
    "import csv\n",
    "import pandas\n",
    "import yaml"
   ]
  },
  {
   "cell_type": "code",
   "execution_count": 2,
   "metadata": {},
   "outputs": [],
   "source": [
    "producer = KafkaProducer(bootstrap_servers=['localhost:9092'],value_serializer=lambda x: dumps(x).encode('utf-8'))"
   ]
  },
  {
   "cell_type": "code",
   "execution_count": 5,
   "metadata": {},
   "outputs": [],
   "source": [
    "#a)for simple test of sending messages to Kafka in format {\"number\": #} every second\n",
    "\n",
    "for e in range(100):\n",
    "    data = {'number' : e}\n",
    "    producer.send('numtest', value=data)\n",
    "    sleep(1)"
   ]
  },
  {
   "cell_type": "code",
   "execution_count": 6,
   "metadata": {},
   "outputs": [],
   "source": [
    "#b) for sending a complete CSV file in JSON without header\n",
    "with open('../PS_log-test.csv') as f:    \n",
    "    for line in f:\n",
    "        row = yaml.safe_load(line)\n",
    "        jd = json.dumps(row)\n",
    "        producer.send('csvtopic',jd)  #topic name , data"
   ]
  },
  {
   "cell_type": "code",
   "execution_count": 4,
   "metadata": {},
   "outputs": [],
   "source": [
    "#c) for sending a complete CSV file in JSON with first line as header\n",
    "from kafka import KafkaProducer\n",
    "import time,csv\n",
    "\n",
    "\n",
    "# create producer to kafka connection\n",
    "producer = KafkaProducer(bootstrap_servers='localhost:9092')\n",
    "# define *.csv file and a char that divide value\n",
    "fname = \"../PS_log-test.csv\"\n",
    "divider_char = ','\n",
    "# open file\n",
    "with open(fname) as fp:  \n",
    "    # read header (first line of the input file)\n",
    "    line = fp.readline()\n",
    "    header = line.split(divider_char)\n",
    "\n",
    "    #loop other data rows \n",
    "    line = fp.readline()    \n",
    "    while line:\n",
    "        # start to prepare data row to send\n",
    "        data_to_send = \"\"\n",
    "        values = line.split(divider_char)\n",
    "        len_header = len(header)\n",
    "        for i in range(len_header):\n",
    "            data_to_send += \"\\\"\"+header[i].strip()+\"\\\"\"+\":\"+\"\\\"\"+values[i].strip()+\"\\\"\"\n",
    "            if i<len_header-1 :\n",
    "                data_to_send += \",\"\n",
    "        data_to_send = \"{\"+data_to_send+\"}\"\n",
    "\n",
    "       \n",
    "        # send data via producer\n",
    "        producer.send('test', bytes(data_to_send, encoding='utf-8'))\n",
    "        line = fp.readline()\n",
    "        # А это так))) на всякий случай\n",
    "        #time.sleep(1)\n",
    "producer.close()"
   ]
  },
  {
   "cell_type": "code",
   "execution_count": null,
   "metadata": {},
   "outputs": [],
   "source": []
  }
 ],
 "metadata": {
  "kernelspec": {
   "display_name": "Python 3",
   "language": "python",
   "name": "python3"
  },
  "language_info": {
   "codemirror_mode": {
    "name": "ipython",
    "version": 3
   },
   "file_extension": ".py",
   "mimetype": "text/x-python",
   "name": "python",
   "nbconvert_exporter": "python",
   "pygments_lexer": "ipython3",
   "version": "3.7.6"
  }
 },
 "nbformat": 4,
 "nbformat_minor": 4
}
