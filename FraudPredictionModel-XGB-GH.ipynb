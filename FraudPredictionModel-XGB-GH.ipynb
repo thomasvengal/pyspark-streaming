{
 "cells": [
  {
   "cell_type": "markdown",
   "metadata": {},
   "source": [
    "<a id='top'>Top</a>\n",
    "\n",
    "\n",
    "\n",
    "\n",
    "\n"
   ]
  },
  {
   "cell_type": "code",
   "execution_count": null,
   "metadata": {},
   "outputs": [],
   "source": [
    "\n"
   ]
  },
  {
   "cell_type": "markdown",
   "metadata": {},
   "source": [
    "\n",
    "High Level Plan: \n",
    "1. Import data \n",
    "2. Explore: Do Exploratory Data Analysis. Find out how the data looks like in raw format.\n",
    "3. Cleanse: Clean the data for any null records by pruning or imputing\n",
    "4. Feature Engineering:  Identify what category of ML modelling is required.\n",
    "5. Modelling: Create a ML model and test. Also save the model to be imported for runing in stream data processing\n",
    "\n",
    "\n",
    "\n",
    "\n"
   ]
  },
  {
   "cell_type": "markdown",
   "metadata": {
    "_cell_guid": "aae6646e-bcaa-4afb-85bc-2f67e314d5b0",
    "_uuid": "d821b548edc31ad27967b8419af17bfa4f0bae48"
   },
   "source": [
    "<a id='import'></a>\n",
    "# 1. Import"
   ]
  },
  {
   "cell_type": "code",
   "execution_count": 2,
   "metadata": {
    "_cell_guid": "03afcaca-4105-4c95-9a38-9a922f592814",
    "_uuid": "f936a10915bc042e678e1148923e493f92b518c3"
   },
   "outputs": [],
   "source": [
    "import pandas as pd\n",
    "import numpy as np\n",
    "%matplotlib inline\n",
    "import matplotlib.pyplot as plt\n",
    "import matplotlib.lines as mlines\n",
    "from mpl_toolkits.mplot3d import Axes3D\n",
    "import seaborn as sns\n",
    "from sklearn.model_selection import train_test_split, learning_curve\n",
    "from sklearn.metrics import average_precision_score\n",
    "from xgboost.sklearn import XGBClassifier\n",
    "from xgboost import plot_importance, to_graphviz\n",
    "from sklearn2pmml import sklearn2pmml, PMMLPipeline\n",
    "from sklearn2pmml.decoration import CategoricalDomain\n",
    "from xgboost.sklearn import XGBClassifier"
   ]
  },
  {
   "cell_type": "code",
   "execution_count": 3,
   "metadata": {
    "_cell_guid": "9bc1119f-d883-4cc6-b569-a707359abe01",
    "_uuid": "b7a3f0c8714f9e3d78a898a014f5ad81ecee1063"
   },
   "outputs": [],
   "source": [
    "import warnings\n",
    "warnings.filterwarnings(\"ignore\", category=DeprecationWarning)"
   ]
  },
  {
   "cell_type": "code",
   "execution_count": 4,
   "metadata": {
    "_cell_guid": "9dc91648-ab99-44c3-a1f1-bea967df390f",
    "_uuid": "6e1110dd564e4a38eb9d8e83c4575dcc3d26abe8"
   },
   "outputs": [],
   "source": [
    "#Import dataset from CSV file\n",
    "df = pd.read_csv('../PS_20174392719_1491204439457_log.csv')\n"
   ]
  },
  {
   "cell_type": "markdown",
   "metadata": {
    "_cell_guid": "ee5bc661-4f56-47f0-8771-9d033a17f347",
    "_uuid": "f1de48b059ede362e51020b263b01ed1f2dda83d"
   },
   "source": [
    "<a href='#top'>back to top</a>"
   ]
  },
  {
   "cell_type": "markdown",
   "metadata": {
    "_cell_guid": "1f073780-2735-4481-a80c-87ed3cfc9d6a",
    "_uuid": "4409f927b742283f1024982d00585deae5e57976"
   },
   "source": [
    "<a id='EDA'></a>\n",
    "# 2. Exploratory Data Analysis\n"
   ]
  },
  {
   "cell_type": "code",
   "execution_count": 5,
   "metadata": {
    "_cell_guid": "cff74f1a-5121-44c2-a6fe-6d69fd904a45",
    "_uuid": "856038be1f75ffd6e0b132c80eac2a35bb36f9d5"
   },
   "outputs": [
    {
     "data": {
      "text/plain": [
       "['step',\n",
       " 'type',\n",
       " 'amount',\n",
       " 'nameOrig',\n",
       " 'oldbalanceOrg',\n",
       " 'newbalanceOrig',\n",
       " 'nameDest',\n",
       " 'oldbalanceDest',\n",
       " 'newbalanceDest',\n",
       " 'isFraud',\n",
       " 'isFlaggedFraud']"
      ]
     },
     "execution_count": 5,
     "metadata": {},
     "output_type": "execute_result"
    }
   ],
   "source": [
    "#List the columns\n",
    "list(df)"
   ]
  },
  {
   "cell_type": "code",
   "execution_count": 6,
   "metadata": {},
   "outputs": [
    {
     "name": "stdout",
     "output_type": "stream",
     "text": [
      "   step      type    amount     nameOrig  oldbalanceOrg  newbalanceOrig  \\\n",
      "0     1   PAYMENT   9839.64  C1231006815       170136.0       160296.36   \n",
      "1     1   PAYMENT   1864.28  C1666544295        21249.0        19384.72   \n",
      "2     1  TRANSFER    181.00  C1305486145          181.0            0.00   \n",
      "3     1  CASH_OUT    181.00   C840083671          181.0            0.00   \n",
      "4     1   PAYMENT  11668.14  C2048537720        41554.0        29885.86   \n",
      "\n",
      "      nameDest  oldbalanceDest  newbalanceDest  isFraud  isFlaggedFraud  \n",
      "0  M1979787155             0.0             0.0        0               0  \n",
      "1  M2044282225             0.0             0.0        0               0  \n",
      "2   C553264065             0.0             0.0        1               0  \n",
      "3    C38997010         21182.0             0.0        1               0  \n",
      "4  M1230701703             0.0             0.0        0               0  \n"
     ]
    }
   ],
   "source": [
    "print(df.head())"
   ]
  },
  {
   "cell_type": "code",
   "execution_count": 7,
   "metadata": {},
   "outputs": [
    {
     "data": {
      "text/plain": [
       "False"
      ]
     },
     "execution_count": 7,
     "metadata": {},
     "output_type": "execute_result"
    }
   ],
   "source": [
    "#Check whether any Null values are present\n",
    "df.isnull().values.any()"
   ]
  },
  {
   "cell_type": "code",
   "execution_count": 8,
   "metadata": {},
   "outputs": [
    {
     "name": "stdout",
     "output_type": "stream",
     "text": [
      "Total number of Records = 6362620\n",
      "Total number of Records with Fraudulent Transactions = 8213\n",
      "Total number of Records with Flagged Fraudulent Transactions = 16\n",
      "Percentage Ratio of Fradulent Transactions= 0.12908204481801522\n",
      "Total number of Records with type PAYMENT = 2151495\n",
      "Total number of Records with type TRANSFER = 532909\n",
      "Total number of Records with type CASH_IN = 1399284\n",
      "Total number of Records with type CASH_OUT = 2237500\n",
      "Total number of Records with type DEBIT = 41432\n"
     ]
    }
   ],
   "source": [
    "#Idenfity Fradulent transactions, Ratio and some basic understanding of other factors\n",
    "totalrecords = len(df)\n",
    "print ('Total number of Records =', totalrecords)\n",
    "\n",
    "is_fraud = len(df.loc[df.isFraud == 1])\n",
    "\n",
    "print ('Total number of Records with Fraudulent Transactions = {}'.format(len(df.loc[df.isFraud == 1])))\n",
    "print ('Total number of Records with Flagged Fraudulent Transactions = {}'.format(len(df.loc[df.isFlaggedFraud == 1])))\n",
    "\n",
    "       \n",
    "print('Percentage Ratio of Fradulent Transactions=', is_fraud*100/totalrecords)\n",
    "print ('Total number of Records with type PAYMENT = {}'.format(len(df.loc[df.type == \"PAYMENT\"]))) \n",
    "print ('Total number of Records with type TRANSFER = {}'.format(len(df.loc[df.type == \"TRANSFER\"])))\n",
    "print ('Total number of Records with type CASH_IN = {}'.format(len(df.loc[df.type == \"CASH_IN\"])))\n",
    "print ('Total number of Records with type CASH_OUT = {}'.format(len(df.loc[df.type == \"CASH_OUT\"])))\n",
    "print ('Total number of Records with type DEBIT = {}'.format(len(df.loc[df.type == \"DEBIT\"])))"
   ]
  },
  {
   "cell_type": "code",
   "execution_count": 9,
   "metadata": {},
   "outputs": [
    {
     "data": {
      "image/png": "[encoded data removed]",
      "text/plain": [
       "<Figure size 576x432 with 1 Axes>"
      ]
     },
     "metadata": {},
     "output_type": "display_data"
    }
   ],
   "source": [
    "x =len(df[df['isFraud'] == 1])\n",
    "y = len(df[df['isFraud']== 0])\n",
    "plt.figure(figsize=(8,6))\n",
    "# Data to plot\n",
    "plt.title('Fraud vs non Fraud')\n",
    "labels = 'Fraud','non-Fraud'\n",
    "sizes = [x,y]\n",
    "colors = ['red', 'green']\n",
    "explode = (0, 0)  # explode 1st slice\n",
    " \n",
    "# Plot\n",
    "plt.pie(sizes, explode=explode, labels=labels, colors=colors,\n",
    "autopct='%1.1f%%', shadow=True, startangle=90)\n",
    " \n",
    "plt.axis('equal')\n",
    "plt.show()"
   ]
  },
  {
   "cell_type": "code",
   "execution_count": 10,
   "metadata": {},
   "outputs": [],
   "source": [
    "#Observation: Ratio of Fraudulent transaction is very small"
   ]
  },
  {
   "cell_type": "code",
   "execution_count": 11,
   "metadata": {},
   "outputs": [
    {
     "name": "stdout",
     "output_type": "stream",
     "text": [
      "Fraudulent transactions types are ['TRANSFER', 'CASH_OUT']\n"
     ]
    }
   ],
   "source": [
    "print('Fraudulent transactions types are {}'.format(list(df.loc[df.isFraud == 1].type.drop_duplicates().values))) "
   ]
  },
  {
   "cell_type": "code",
   "execution_count": 12,
   "metadata": {
    "_cell_guid": "a10a3577-4716-49dc-8dda-d567fb395a74",
    "_uuid": "abc0207b9075a0defd828fe8732d63cce8da33c6"
   },
   "outputs": [
    {
     "name": "stdout",
     "output_type": "stream",
     "text": [
      "Total number of Records with  fraudulent TRANSFERs = 4097\n",
      "Total number of Records with fraudulent CASH_OUTs = 4116\n",
      "Total number of Records with isFlaggedfraudulent with TRANSFERs = 16\n",
      "Total number of Records with  isFlaggedfraudulent with CASH_OUTs = 0\n"
     ]
    }
   ],
   "source": [
    "\n",
    "\n",
    "print ('Total number of Records with  fraudulent TRANSFERs = {}'.format(len(df.loc[(df.isFraud == 1) & (df.type == 'TRANSFER')]))) # 4097\n",
    "\n",
    "print ('Total number of Records with fraudulent CASH_OUTs = {}'.format(len(df.loc[(df.isFraud == 1) & (df.type == 'CASH_OUT')]))) # 4116\n",
    "\n",
    "print ('Total number of Records with isFlaggedfraudulent with TRANSFERs = {}'.format(len(df.loc[(df.isFlaggedFraud   == 1) & (df.type == 'TRANSFER')])))\n",
    "\n",
    "print ('Total number of Records with  isFlaggedfraudulent with CASH_OUTs = {}'.format(len(df.loc[(df.isFlaggedFraud == 1) & (df.type == 'CASH_OUT')])))\n",
    "\n",
    "\n"
   ]
  },
  {
   "cell_type": "markdown",
   "metadata": {
    "_cell_guid": "e599bb1d-89ae-4c01-9ec7-de6d2960d4ad",
    "_uuid": "5a5d627e0d65abba7a8209209fdeb73b0e0f6ca3"
   },
   "source": [
    "<a href='#top'>back to top</a>"
   ]
  },
  {
   "cell_type": "markdown",
   "metadata": {
    "_cell_guid": "cb401745-33d3-42df-a226-12a84fb04bd9",
    "_uuid": "86a79448bf138b3b4c249c5be4b812dbce492e9a"
   },
   "source": [
    "<a id='clean'></a>\n",
    "# 3. Data Cleansing"
   ]
  },
  {
   "cell_type": "markdown",
   "metadata": {
    "_cell_guid": "cdd94133-5730-4f31-9a7e-c23c1322edb2",
    "_uuid": "a5b91ecc33d7f51bec7e5e357edef789e2459d12"
   },
   "source": [
    "Exploratory data analysis describes that  fraud is present only in TRANSFER and CASH_OUT categrories. Based on the result, we build a limited dataset of all TRANSFER and CASH_OUT "
   ]
  },
  {
   "cell_type": "code",
   "execution_count": 13,
   "metadata": {
    "_cell_guid": "bc50e596-b0f3-4e63-877d-d506e2528cd1",
    "_uuid": "42807f63bb86782daedce8dfa7ba1385458c84c9"
   },
   "outputs": [],
   "source": [
    "X = df.loc[(df.type == 'TRANSFER') | (df.type == 'CASH_OUT')]\n",
    "\n",
    "randomState = 5\n",
    "np.random.seed(randomState)\n",
    "\n",
    "Y = X['isFraud']\n",
    "del X['isFraud']\n",
    "\n",
    "# Eliminate columns shown to be irrelevant for analysis in the EDA\n",
    "X = X.drop(['nameOrig', 'nameDest', 'isFlaggedFraud'], axis = 1)\n",
    "\n",
    "# Binary-encoding of labelled data in 'type'\n",
    "X.loc[X.type == 'TRANSFER', 'type'] = 0\n",
    "X.loc[X.type == 'CASH_OUT', 'type'] = 1\n",
    "X.type = X.type.astype(int) # convert dtype('O') to dtype(int)"
   ]
  },
  {
   "cell_type": "code",
   "execution_count": 14,
   "metadata": {},
   "outputs": [
    {
     "name": "stdout",
     "output_type": "stream",
     "text": [
      "    step  type     amount  oldbalanceOrg  newbalanceOrig  oldbalanceDest  \\\n",
      "2      1     0     181.00          181.0             0.0             0.0   \n",
      "3      1     1     181.00          181.0             0.0         21182.0   \n",
      "15     1     1  229133.94        15325.0             0.0          5083.0   \n",
      "19     1     0  215310.30          705.0             0.0         22425.0   \n",
      "24     1     0  311685.89        10835.0             0.0          6267.0   \n",
      "\n",
      "    newbalanceDest  \n",
      "2             0.00  \n",
      "3             0.00  \n",
      "15        51513.44  \n",
      "19            0.00  \n",
      "24      2719172.89  \n"
     ]
    }
   ],
   "source": [
    "print(X.head())"
   ]
  },
  {
   "cell_type": "markdown",
   "metadata": {
    "_cell_guid": "9e10d9ff-0cc1-4c4b-9dd2-6772b6ffbc12",
    "_uuid": "51ae3efbe461831c91c595096021a362928312fe"
   },
   "source": [
    "<a href='#top'>back to top</a>"
   ]
  },
  {
   "cell_type": "code",
   "execution_count": 15,
   "metadata": {
    "_cell_guid": "66d77c97-6da1-48f5-83ca-ef3412e2d2bd",
    "_uuid": "a9c3802f68e765be4450b6f48178e99c0ec9bf68"
   },
   "outputs": [
    {
     "name": "stdout",
     "output_type": "stream",
     "text": [
      "skew = 0.002964544224336551\n"
     ]
    }
   ],
   "source": [
    "#Idenfity the Skewness in the data. \n",
    "Xfraud = X.loc[Y == 1] # update Xfraud & XnonFraud with cleaned data\n",
    "XnonFraud = X.loc[Y == 0]\n",
    "                  \n",
    "print('skew = {}'.format( len(Xfraud) / float(len(X)) ))"
   ]
  },
  {
   "cell_type": "markdown",
   "metadata": {
    "_cell_guid": "6e3d45e6-5bf7-4c97-845f-3a3bce01252c",
    "_uuid": "ac08bdf806601f6b0921d60c2a37aa58f4798b82"
   },
   "source": [
    "## Using XGBoost Classifier"
   ]
  },
  {
   "cell_type": "code",
   "execution_count": 16,
   "metadata": {
    "_cell_guid": "d42493c5-061b-4b5e-8a51-ac4b77ddb7e8",
    "_uuid": "86740e8f7845c4eb12f979f5e7af87be19022110"
   },
   "outputs": [],
   "source": [
    "#Splittingdata into training and test sets with a ratio 80:20\n",
    "trainX, testX, trainY, testY = train_test_split(X, Y, test_size = 0.2, random_state = randomState)"
   ]
  },
  {
   "cell_type": "code",
   "execution_count": 17,
   "metadata": {
    "_cell_guid": "7a1c6c5c-564d-4f10-9b48-02d2e287d82f",
    "_uuid": "bd071708fd0b0b93fdbd973fce9126f91f8dd871"
   },
   "outputs": [
    {
     "name": "stdout",
     "output_type": "stream",
     "text": [
      "AUPRC = 0.9436219544389146\n"
     ]
    }
   ],
   "source": [
    "# Takes time to compute\n",
    "weights = (Y == 0).sum() / (1.0 * (Y == 1).sum())\n",
    "clf = XGBClassifier(max_depth = 3, scale_pos_weight = weights, n_jobs = 4)\n",
    "probabilities = clf.fit(trainX, trainY).predict_proba(testX)\n",
    "print('AUPRC = {}'.format(average_precision_score(testY, probabilities[:, 1])))"
   ]
  },
  {
   "cell_type": "code",
   "execution_count": 19,
   "metadata": {},
   "outputs": [
    {
     "data": {
      "image/png": "[encoded data removed]",
      "text/plain": [
       "<Figure size 1008x648 with 1 Axes>"
      ]
     },
     "metadata": {
      "needs_background": "light"
     },
     "output_type": "display_data"
    }
   ],
   "source": [
    "fig = plt.figure(figsize = (14, 9))\n",
    "ax = fig.add_subplot(111)\n",
    "\n",
    "colours = plt.cm.Set1(np.linspace(0, 1, 9))\n",
    "\n",
    "ax = plot_importance(clf, height = 1, color = colours, grid = False, show_values = False, importance_type = 'cover', ax = ax);\n",
    "for axis in ['top','bottom','left','right']:\n",
    "            ax.spines[axis].set_linewidth(2)\n",
    "        \n",
    "ax.set_xlabel('importance score', size = 16);\n",
    "ax.set_ylabel('features', size = 16);\n",
    "ax.set_yticklabels(ax.get_yticklabels(), size = 12);\n",
    "ax.set_title('Ordering of features by importance to the model learnt', size = 20);"
   ]
  },
  {
   "cell_type": "code",
   "execution_count": 21,
   "metadata": {},
   "outputs": [
    {
     "data": {
      "image/svg+xml": [
       "<?xml version=\"1.0\" encoding=\"UTF-8\" standalone=\"no\"?>\n",
       "<!DOCTYPE svg PUBLIC \"-//W3C//DTD SVG 1.1//EN\"\n",
       " \"http://www.w3.org/Graphics/SVG/1.1/DTD/svg11.dtd\">\n",
       "<!-- Generated by graphviz version 2.40.1 (20161225.0304)\n",
       " -->\n",
       "<!-- Title: %3 Pages: 1 -->\n",
       "<svg width=\"1392pt\" height=\"305pt\"\n",
       " viewBox=\"0.00 0.00 1391.69 305.00\" xmlns=\"http://www.w3.org/2000/svg\" xmlns:xlink=\"http://www.w3.org/1999/xlink\">\n",
       "<g id=\"graph0\" class=\"graph\" transform=\"scale(1 1) rotate(0) translate(4 301)\">\n",
       "<title>%3</title>\n",
       "<polygon fill=\"#ffffff\" stroke=\"transparent\" points=\"-4,4 -4,-301 1387.6863,-301 1387.6863,4 -4,4\"/>\n",
       "<!-- 0 -->\n",
       "<g id=\"node1\" class=\"node\">\n",
       "<title>0</title>\n",
       "<ellipse fill=\"none\" stroke=\"#000000\" cx=\"668.3431\" cy=\"-279\" rx=\"112.3801\" ry=\"18\"/>\n",
       "<text text-anchor=\"middle\" x=\"668.3431\" y=\"-275.3\" font-family=\"Times,serif\" font-size=\"14.00\" fill=\"#000000\">oldbalanceOrg&lt;53062.4648</text>\n",
       "</g>\n",
       "<!-- 1 -->\n",
       "<g id=\"node2\" class=\"node\">\n",
       "<title>1</title>\n",
       "<ellipse fill=\"none\" stroke=\"#000000\" cx=\"491.3431\" cy=\"-192\" rx=\"118.8789\" ry=\"18\"/>\n",
       "<text text-anchor=\"middle\" x=\"491.3431\" y=\"-188.3\" font-family=\"Times,serif\" font-size=\"14.00\" fill=\"#000000\">newbalanceDest&lt;49493.9453</text>\n",
       "</g>\n",
       "<!-- 0&#45;&gt;1 -->\n",
       "<g id=\"edge1\" class=\"edge\">\n",
       "<title>0&#45;&gt;1</title>\n",
       "<path fill=\"none\" stroke=\"#0000ff\" d=\"M633.3736,-261.8116C605.3435,-248.0341 565.8377,-228.616 535.6045,-213.7556\"/>\n",
       "<polygon fill=\"#0000ff\" stroke=\"#0000ff\" points=\"537.0609,-210.5715 526.5425,-209.3014 533.973,-216.8537 537.0609,-210.5715\"/>\n",
       "<text text-anchor=\"middle\" x=\"626.3431\" y=\"-231.8\" font-family=\"Times,serif\" font-size=\"14.00\" fill=\"#000000\">yes, missing</text>\n",
       "</g>\n",
       "<!-- 2 -->\n",
       "<g id=\"node3\" class=\"node\">\n",
       "<title>2</title>\n",
       "<ellipse fill=\"none\" stroke=\"#000000\" cx=\"845.3431\" cy=\"-192\" rx=\"123.4781\" ry=\"18\"/>\n",
       "<text text-anchor=\"middle\" x=\"845.3431\" y=\"-188.3\" font-family=\"Times,serif\" font-size=\"14.00\" fill=\"#000000\">newbalanceOrig&lt;0.504999995</text>\n",
       "</g>\n",
       "<!-- 0&#45;&gt;2 -->\n",
       "<g id=\"edge2\" class=\"edge\">\n",
       "<title>0&#45;&gt;2</title>\n",
       "<path fill=\"none\" stroke=\"#ff0000\" d=\"M703.3126,-261.8116C731.3428,-248.0341 770.8486,-228.616 801.0818,-213.7556\"/>\n",
       "<polygon fill=\"#ff0000\" stroke=\"#ff0000\" points=\"802.7132,-216.8537 810.1438,-209.3014 799.6254,-210.5715 802.7132,-216.8537\"/>\n",
       "<text text-anchor=\"middle\" x=\"775.8431\" y=\"-231.8\" font-family=\"Times,serif\" font-size=\"14.00\" fill=\"#000000\">no</text>\n",
       "</g>\n",
       "<!-- 3 -->\n",
       "<g id=\"node4\" class=\"node\">\n",
       "<title>3</title>\n",
       "<ellipse fill=\"none\" stroke=\"#000000\" cx=\"250.3431\" cy=\"-105\" rx=\"42.7926\" ry=\"18\"/>\n",
       "<text text-anchor=\"middle\" x=\"250.3431\" y=\"-101.3\" font-family=\"Times,serif\" font-size=\"14.00\" fill=\"#000000\">type&lt;0.5</text>\n",
       "</g>\n",
       "<!-- 1&#45;&gt;3 -->\n",
       "<g id=\"edge3\" class=\"edge\">\n",
       "<title>1&#45;&gt;3</title>\n",
       "<path fill=\"none\" stroke=\"#0000ff\" d=\"M445.1611,-175.3285C401.0348,-159.3991 335.0948,-135.595 292.3966,-120.1811\"/>\n",
       "<polygon fill=\"#0000ff\" stroke=\"#0000ff\" points=\"293.4574,-116.8431 282.8631,-116.7396 291.0805,-123.4272 293.4574,-116.8431\"/>\n",
       "<text text-anchor=\"middle\" x=\"420.3431\" y=\"-144.8\" font-family=\"Times,serif\" font-size=\"14.00\" fill=\"#000000\">yes, missing</text>\n",
       "</g>\n",
       "<!-- 4 -->\n",
       "<g id=\"node5\" class=\"node\">\n",
       "<title>4</title>\n",
       "<ellipse fill=\"none\" stroke=\"#000000\" cx=\"491.3431\" cy=\"-105\" rx=\"86.3847\" ry=\"18\"/>\n",
       "<text text-anchor=\"middle\" x=\"491.3431\" y=\"-101.3\" font-family=\"Times,serif\" font-size=\"14.00\" fill=\"#000000\">amount&lt;52689.1484</text>\n",
       "</g>\n",
       "<!-- 1&#45;&gt;4 -->\n",
       "<g id=\"edge4\" class=\"edge\">\n",
       "<title>1&#45;&gt;4</title>\n",
       "<path fill=\"none\" stroke=\"#ff0000\" d=\"M491.3431,-173.9735C491.3431,-162.1918 491.3431,-146.5607 491.3431,-133.1581\"/>\n",
       "<polygon fill=\"#ff0000\" stroke=\"#ff0000\" points=\"494.8432,-133.0033 491.3431,-123.0034 487.8432,-133.0034 494.8432,-133.0033\"/>\n",
       "<text text-anchor=\"middle\" x=\"498.8431\" y=\"-144.8\" font-family=\"Times,serif\" font-size=\"14.00\" fill=\"#000000\">no</text>\n",
       "</g>\n",
       "<!-- 5 -->\n",
       "<g id=\"node10\" class=\"node\">\n",
       "<title>5</title>\n",
       "<ellipse fill=\"none\" stroke=\"#000000\" cx=\"845.3431\" cy=\"-105\" rx=\"112.3801\" ry=\"18\"/>\n",
       "<text text-anchor=\"middle\" x=\"845.3431\" y=\"-101.3\" font-family=\"Times,serif\" font-size=\"14.00\" fill=\"#000000\">oldbalanceOrg&lt;155533.469</text>\n",
       "</g>\n",
       "<!-- 2&#45;&gt;5 -->\n",
       "<g id=\"edge9\" class=\"edge\">\n",
       "<title>2&#45;&gt;5</title>\n",
       "<path fill=\"none\" stroke=\"#0000ff\" d=\"M845.3431,-173.9735C845.3431,-162.1918 845.3431,-146.5607 845.3431,-133.1581\"/>\n",
       "<polygon fill=\"#0000ff\" stroke=\"#0000ff\" points=\"848.8432,-133.0033 845.3431,-123.0034 841.8432,-133.0034 848.8432,-133.0033\"/>\n",
       "<text text-anchor=\"middle\" x=\"880.3431\" y=\"-144.8\" font-family=\"Times,serif\" font-size=\"14.00\" fill=\"#000000\">yes, missing</text>\n",
       "</g>\n",
       "<!-- 6 -->\n",
       "<g id=\"node11\" class=\"node\">\n",
       "<title>6</title>\n",
       "<ellipse fill=\"none\" stroke=\"#000000\" cx=\"1130.3431\" cy=\"-105\" rx=\"81.7856\" ry=\"18\"/>\n",
       "<text text-anchor=\"middle\" x=\"1130.3431\" y=\"-101.3\" font-family=\"Times,serif\" font-size=\"14.00\" fill=\"#000000\">amount&lt;989592.25</text>\n",
       "</g>\n",
       "<!-- 2&#45;&gt;6 -->\n",
       "<g id=\"edge10\" class=\"edge\">\n",
       "<title>2&#45;&gt;6</title>\n",
       "<path fill=\"none\" stroke=\"#ff0000\" d=\"M898.6151,-175.738C948.006,-160.6608 1021.327,-138.2786 1072.2146,-122.7445\"/>\n",
       "<polygon fill=\"#ff0000\" stroke=\"#ff0000\" points=\"1073.5369,-126.0004 1082.0793,-119.7332 1071.4931,-119.3054 1073.5369,-126.0004\"/>\n",
       "<text text-anchor=\"middle\" x=\"1012.8431\" y=\"-144.8\" font-family=\"Times,serif\" font-size=\"14.00\" fill=\"#000000\">no</text>\n",
       "</g>\n",
       "<!-- 7 -->\n",
       "<g id=\"node6\" class=\"node\">\n",
       "<title>7</title>\n",
       "<ellipse fill=\"none\" stroke=\"#000000\" cx=\"77.3431\" cy=\"-18\" rx=\"77.1866\" ry=\"18\"/>\n",
       "<text text-anchor=\"middle\" x=\"77.3431\" y=\"-14.3\" font-family=\"Times,serif\" font-size=\"14.00\" fill=\"#000000\">leaf=0.570649385</text>\n",
       "</g>\n",
       "<!-- 3&#45;&gt;7 -->\n",
       "<g id=\"edge5\" class=\"edge\">\n",
       "<title>3&#45;&gt;7</title>\n",
       "<path fill=\"none\" stroke=\"#0000ff\" d=\"M221.8047,-91.3048C208.031,-84.647 191.2896,-76.4842 176.3431,-69 157.0578,-59.3431 135.7812,-48.4181 117.9108,-39.164\"/>\n",
       "<polygon fill=\"#0000ff\" stroke=\"#0000ff\" points=\"119.3933,-35.9902 108.9048,-34.4925 116.1701,-42.204 119.3933,-35.9902\"/>\n",
       "<text text-anchor=\"middle\" x=\"211.3431\" y=\"-57.8\" font-family=\"Times,serif\" font-size=\"14.00\" fill=\"#000000\">yes, missing</text>\n",
       "</g>\n",
       "<!-- 8 -->\n",
       "<g id=\"node7\" class=\"node\">\n",
       "<title>8</title>\n",
       "<ellipse fill=\"none\" stroke=\"#000000\" cx=\"250.3431\" cy=\"-18\" rx=\"77.1866\" ry=\"18\"/>\n",
       "<text text-anchor=\"middle\" x=\"250.3431\" y=\"-14.3\" font-family=\"Times,serif\" font-size=\"14.00\" fill=\"#000000\">leaf=0.060144309</text>\n",
       "</g>\n",
       "<!-- 3&#45;&gt;8 -->\n",
       "<g id=\"edge6\" class=\"edge\">\n",
       "<title>3&#45;&gt;8</title>\n",
       "<path fill=\"none\" stroke=\"#ff0000\" d=\"M250.3431,-86.9735C250.3431,-75.1918 250.3431,-59.5607 250.3431,-46.1581\"/>\n",
       "<polygon fill=\"#ff0000\" stroke=\"#ff0000\" points=\"253.8432,-46.0033 250.3431,-36.0034 246.8432,-46.0034 253.8432,-46.0033\"/>\n",
       "<text text-anchor=\"middle\" x=\"257.8431\" y=\"-57.8\" font-family=\"Times,serif\" font-size=\"14.00\" fill=\"#000000\">no</text>\n",
       "</g>\n",
       "<!-- 9 -->\n",
       "<g id=\"node8\" class=\"node\">\n",
       "<title>9</title>\n",
       "<ellipse fill=\"none\" stroke=\"#000000\" cx=\"426.3431\" cy=\"-18\" rx=\"80.6858\" ry=\"18\"/>\n",
       "<text text-anchor=\"middle\" x=\"426.3431\" y=\"-14.3\" font-family=\"Times,serif\" font-size=\"14.00\" fill=\"#000000\">leaf=&#45;0.272019744</text>\n",
       "</g>\n",
       "<!-- 4&#45;&gt;9 -->\n",
       "<g id=\"edge7\" class=\"edge\">\n",
       "<title>4&#45;&gt;9</title>\n",
       "<path fill=\"none\" stroke=\"#0000ff\" d=\"M477.8751,-86.9735C468.6369,-74.6085 456.2309,-58.0036 445.9064,-44.1847\"/>\n",
       "<polygon fill=\"#0000ff\" stroke=\"#0000ff\" points=\"448.5831,-41.9196 439.7939,-36.0034 442.9754,-46.1093 448.5831,-41.9196\"/>\n",
       "<text text-anchor=\"middle\" x=\"498.3431\" y=\"-57.8\" font-family=\"Times,serif\" font-size=\"14.00\" fill=\"#000000\">yes, missing</text>\n",
       "</g>\n",
       "<!-- 10 -->\n",
       "<g id=\"node9\" class=\"node\">\n",
       "<title>10</title>\n",
       "<ellipse fill=\"none\" stroke=\"#000000\" cx=\"605.3431\" cy=\"-18\" rx=\"80.6858\" ry=\"18\"/>\n",
       "<text text-anchor=\"middle\" x=\"605.3431\" y=\"-14.3\" font-family=\"Times,serif\" font-size=\"14.00\" fill=\"#000000\">leaf=&#45;0.594996333</text>\n",
       "</g>\n",
       "<!-- 4&#45;&gt;10 -->\n",
       "<g id=\"edge8\" class=\"edge\">\n",
       "<title>4&#45;&gt;10</title>\n",
       "<path fill=\"none\" stroke=\"#ff0000\" d=\"M514.1387,-87.6033C531.4586,-74.3856 555.4645,-56.0653 574.5004,-41.5379\"/>\n",
       "<polygon fill=\"#ff0000\" stroke=\"#ff0000\" points=\"576.7609,-44.2156 582.587,-35.3665 572.5141,-38.6509 576.7609,-44.2156\"/>\n",
       "<text text-anchor=\"middle\" x=\"562.8431\" y=\"-57.8\" font-family=\"Times,serif\" font-size=\"14.00\" fill=\"#000000\">no</text>\n",
       "</g>\n",
       "<!-- 11 -->\n",
       "<g id=\"node12\" class=\"node\">\n",
       "<title>11</title>\n",
       "<ellipse fill=\"none\" stroke=\"#000000\" cx=\"781.3431\" cy=\"-18\" rx=\"77.1866\" ry=\"18\"/>\n",
       "<text text-anchor=\"middle\" x=\"781.3431\" y=\"-14.3\" font-family=\"Times,serif\" font-size=\"14.00\" fill=\"#000000\">leaf=0.210890278</text>\n",
       "</g>\n",
       "<!-- 5&#45;&gt;11 -->\n",
       "<g id=\"edge11\" class=\"edge\">\n",
       "<title>5&#45;&gt;11</title>\n",
       "<path fill=\"none\" stroke=\"#0000ff\" d=\"M832.0823,-86.9735C822.9862,-74.6085 810.7711,-58.0036 800.6055,-44.1847\"/>\n",
       "<polygon fill=\"#0000ff\" stroke=\"#0000ff\" points=\"803.332,-41.9846 794.587,-36.0034 797.6934,-46.1326 803.332,-41.9846\"/>\n",
       "<text text-anchor=\"middle\" x=\"852.3431\" y=\"-57.8\" font-family=\"Times,serif\" font-size=\"14.00\" fill=\"#000000\">yes, missing</text>\n",
       "</g>\n",
       "<!-- 12 -->\n",
       "<g id=\"node13\" class=\"node\">\n",
       "<title>12</title>\n",
       "<ellipse fill=\"none\" stroke=\"#000000\" cx=\"954.3431\" cy=\"-18\" rx=\"77.1866\" ry=\"18\"/>\n",
       "<text text-anchor=\"middle\" x=\"954.3431\" y=\"-14.3\" font-family=\"Times,serif\" font-size=\"14.00\" fill=\"#000000\">leaf=0.563126028</text>\n",
       "</g>\n",
       "<!-- 5&#45;&gt;12 -->\n",
       "<g id=\"edge12\" class=\"edge\">\n",
       "<title>5&#45;&gt;12</title>\n",
       "<path fill=\"none\" stroke=\"#ff0000\" d=\"M868.3316,-87.1288C875.7017,-81.3673 883.8848,-74.9366 891.3431,-69 902.4857,-60.1308 914.6641,-50.3037 925.318,-41.6621\"/>\n",
       "<polygon fill=\"#ff0000\" stroke=\"#ff0000\" points=\"927.5702,-44.3419 933.1256,-35.3204 923.1568,-38.9084 927.5702,-44.3419\"/>\n",
       "<text text-anchor=\"middle\" x=\"916.8431\" y=\"-57.8\" font-family=\"Times,serif\" font-size=\"14.00\" fill=\"#000000\">no</text>\n",
       "</g>\n",
       "<!-- 13 -->\n",
       "<g id=\"node14\" class=\"node\">\n",
       "<title>13</title>\n",
       "<ellipse fill=\"none\" stroke=\"#000000\" cx=\"1130.3431\" cy=\"-18\" rx=\"80.6858\" ry=\"18\"/>\n",
       "<text text-anchor=\"middle\" x=\"1130.3431\" y=\"-14.3\" font-family=\"Times,serif\" font-size=\"14.00\" fill=\"#000000\">leaf=&#45;0.593259215</text>\n",
       "</g>\n",
       "<!-- 6&#45;&gt;13 -->\n",
       "<g id=\"edge13\" class=\"edge\">\n",
       "<title>6&#45;&gt;13</title>\n",
       "<path fill=\"none\" stroke=\"#0000ff\" d=\"M1130.3431,-86.9735C1130.3431,-75.1918 1130.3431,-59.5607 1130.3431,-46.1581\"/>\n",
       "<polygon fill=\"#0000ff\" stroke=\"#0000ff\" points=\"1133.8432,-46.0033 1130.3431,-36.0034 1126.8432,-46.0034 1133.8432,-46.0033\"/>\n",
       "<text text-anchor=\"middle\" x=\"1165.3431\" y=\"-57.8\" font-family=\"Times,serif\" font-size=\"14.00\" fill=\"#000000\">yes, missing</text>\n",
       "</g>\n",
       "<!-- 14 -->\n",
       "<g id=\"node15\" class=\"node\">\n",
       "<title>14</title>\n",
       "<ellipse fill=\"none\" stroke=\"#000000\" cx=\"1306.3431\" cy=\"-18\" rx=\"77.1866\" ry=\"18\"/>\n",
       "<text text-anchor=\"middle\" x=\"1306.3431\" y=\"-14.3\" font-family=\"Times,serif\" font-size=\"14.00\" fill=\"#000000\">leaf=0.597087979</text>\n",
       "</g>\n",
       "<!-- 6&#45;&gt;14 -->\n",
       "<g id=\"edge14\" class=\"edge\">\n",
       "<title>6&#45;&gt;14</title>\n",
       "<path fill=\"none\" stroke=\"#ff0000\" d=\"M1164.273,-88.5892C1176.8714,-82.4706 1191.2738,-75.4461 1204.3431,-69 1224.2419,-59.1854 1246.2655,-48.1904 1264.7403,-38.9292\"/>\n",
       "<polygon fill=\"#ff0000\" stroke=\"#ff0000\" points=\"1266.4042,-42.0103 1273.7731,-34.3978 1263.2653,-35.7535 1266.4042,-42.0103\"/>\n",
       "<text text-anchor=\"middle\" x=\"1239.8431\" y=\"-57.8\" font-family=\"Times,serif\" font-size=\"14.00\" fill=\"#000000\">no</text>\n",
       "</g>\n",
       "</g>\n",
       "</svg>\n"
      ],
      "text/plain": [
       "<graphviz.files.Source at 0x7fdd9ddde210>"
      ]
     },
     "execution_count": 21,
     "metadata": {},
     "output_type": "execute_result"
    }
   ],
   "source": [
    "to_graphviz(clf)"
   ]
  },
  {
   "cell_type": "code",
   "execution_count": null,
   "metadata": {},
   "outputs": [],
   "source": [
    "clf.save_model(\"../fin_pay_fraud.ml\")\n",
    "print(\"Saved Model\")"
   ]
  },
  {
   "cell_type": "code",
   "execution_count": 22,
   "metadata": {},
   "outputs": [
    {
     "name": "stdout",
     "output_type": "stream",
     "text": [
      "loaded model\n"
     ]
    }
   ],
   "source": [
    "slf= XGBClassifier()\n",
    "slf.load_model(\"../fin_pay_fraud.ml\")\n",
    "print(\"loaded model\")"
   ]
  },
  {
   "cell_type": "markdown",
   "metadata": {
    "_cell_guid": "c4cd5e93-8038-4cba-a48d-f3e227db1f54",
    "_uuid": "ed0275e8371cc951382844a61def5a9c994e4d78"
   },
   "source": [
    "<a href='#top'>back to top</a>"
   ]
  }
 ],
 "metadata": {
  "anaconda-cloud": {},
  "kernelspec": {
   "display_name": "Python 3",
   "language": "python",
   "name": "python3"
  },
  "language_info": {
   "codemirror_mode": {
    "name": "ipython",
    "version": 3
   },
   "file_extension": ".py",
   "mimetype": "text/x-python",
   "name": "python",
   "nbconvert_exporter": "python",
   "pygments_lexer": "ipython3",
   "version": "3.7.6"
  }
 },
 "nbformat": 4,
 "nbformat_minor": 4
}
